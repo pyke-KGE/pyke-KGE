{
 "cells": [
  {
   "cell_type": "code",
   "execution_count": 1,
   "metadata": {},
   "outputs": [],
   "source": [
    "from helper_classes import PYKE\n",
    "from helper_classes import Parser\n",
    "from helper_classes import DataAnalyser\n",
    "from helper_classes import PPMI\n",
    "\n",
    "import util as ut\n",
    "import numpy as np"
   ]
  },
  {
   "cell_type": "code",
   "execution_count": 2,
   "metadata": {},
   "outputs": [],
   "source": [
    "random_state = 1\n",
    "np.random.seed(random_state)"
   ]
  },
  {
   "cell_type": "markdown",
   "metadata": {},
   "source": [
    "# Learning DBpedia Embedings with PYKE\n",
    "\n",
    "1. Download the following files: \n",
    "+ http://downloads.dbpedia.org/2016-10/core/skos_categories_en.ttl.bz2\n",
    "+ http://downloads.dbpedia.org/2016-10/core/instance_types_en.ttl.bz2\n",
    "+ http://downloads.dbpedia.org/2016-10/core/mappingbased_objects_en.ttl.bz2  \n",
    "\n",
    "2. Locate the file under KGs/DBpedia."
   ]
  },
  {
   "cell_type": "code",
   "execution_count": 3,
   "metadata": {},
   "outputs": [],
   "source": [
    "# DEFINE MODEL PARAMS\n",
    "K = 45\n",
    "num_of_dims = 50\n",
    "bound_on_iter = 30\n",
    "omega = 0.45557\n",
    "e_release = 0.0414"
   ]
  },
  {
   "cell_type": "code",
   "execution_count": 4,
   "metadata": {},
   "outputs": [],
   "source": [
    "kg_root = 'KGs/DBpedia'\n",
    "kg_path = kg_root + '/'"
   ]
  },
  {
   "cell_type": "code",
   "execution_count": 5,
   "metadata": {},
   "outputs": [
    {
     "name": "stdout",
     "output_type": "stream",
     "text": [
      "\n",
      "\n",
      "###### Preprocessing  starts ######\n",
      "\n",
      "\n",
      "###### Constructing Inverted Index  starts ######\n",
      "Number of RDF triples: 15000\n",
      "Number of vocabulary terms:  11884\n",
      "Number of subjects:  5620\n",
      "Constructing Inverted Index  took  0.3225545883178711  seconds\n",
      "\n",
      "\n",
      "\n",
      "###### Calculation of PPMIs  starts ######\n",
      "Calculation of PPMIs  took  0.9045906066894531  seconds\n",
      "\n",
      "Preprocessing  took  1.2310194969177246  seconds\n",
      "\n"
     ]
    }
   ],
   "source": [
    "storage_path, experiment_folder = ut.create_experiment_folder()\n",
    "\n",
    "parser = Parser(p_folder=storage_path, k=K)\n",
    "\n",
    "parser.set_similarity_measure(PPMI)\n",
    "\n",
    "model = PYKE()\n",
    "\n",
    "analyser = DataAnalyser(p_folder=storage_path)\n",
    "# For the illustration purpusoes lets only process first 5000 ntriples from each given file.\n",
    "# To reproduce  reported results => parser.pipeline_of_preprocessing(kg_path)\n",
    "holder = parser.pipeline_of_preprocessing(kg_path,bound=5000)"
   ]
  },
  {
   "cell_type": "code",
   "execution_count": 6,
   "metadata": {},
   "outputs": [
    {
     "name": "stdout",
     "output_type": "stream",
     "text": [
      "\n",
      "\n",
      "###### Generating Embeddings:  starts ######\n",
      "EPOCH:  0\n",
      "EPOCH:  1\n",
      "EPOCH:  2\n",
      "EPOCH:  3\n",
      "EPOCH:  4\n",
      "EPOCH:  5\n",
      "EPOCH:  6\n",
      "EPOCH:  7\n",
      "EPOCH:  8\n",
      "EPOCH:  9\n",
      "EPOCH:  10\n",
      "EPOCH:  11\n",
      "EPOCH:  12\n",
      "EPOCH:  13\n",
      "EPOCH:  14\n",
      "EPOCH:  15\n",
      "EPOCH:  16\n",
      "EPOCH:  17\n",
      "EPOCH:  18\n",
      "EPOCH:  19\n",
      "EPOCH:  20\n",
      "EPOCH:  21\n",
      "EPOCH:  22\n",
      "EPOCH:  23\n",
      "EPOCH:  24\n",
      "\n",
      " Epoch:  24\n",
      "System energy: -0.03499999999999983\n",
      "Generating Embeddings:  took  26.945087432861328  seconds\n",
      "\n"
     ]
    }
   ],
   "source": [
    "vocab_size = len(holder)\n",
    "\n",
    "embeddings = ut.randomly_initialize_embedding_space(vocab_size, num_of_dims)\n",
    "\n",
    "learned_embeddings = model.pipeline_of_learning_embeddings(e=embeddings,\n",
    "                                                           max_iteration=bound_on_iter,\n",
    "                                                           energy_release_at_epoch=e_release,\n",
    "                                                           holder=holder, omega=omega)\n",
    "\n",
    "\n",
    "learned_embeddings.to_csv(storage_path + '/PYKE_50_embd.csv')\n",
    "\n",
    "# To use memory efficiently\n",
    "del holder\n",
    "del embeddings"
   ]
  },
  {
   "cell_type": "code",
   "execution_count": 7,
   "metadata": {},
   "outputs": [
    {
     "data": {
      "text/plain": [
       "5620"
      ]
     },
     "execution_count": 7,
     "metadata": {},
     "output_type": "execute_result"
    }
   ],
   "source": [
    "type_info = ut.deserializer(path=storage_path, serialized_name='type_info')\n",
    "len(type_info)# denoted as \\mathcal{S} in the paper "
   ]
  },
  {
   "cell_type": "code",
   "execution_count": 8,
   "metadata": {},
   "outputs": [
    {
     "data": {
      "text/plain": [
       "185"
      ]
     },
     "execution_count": 8,
     "metadata": {},
     "output_type": "execute_result"
    }
   ],
   "source": [
    "# get the index of objects / get type information =>>> s #type o\n",
    "all_types = sorted(set.union(*list(type_info.values())))\n",
    "len(all_types)# denoted as C in the paper"
   ]
  },
  {
   "cell_type": "code",
   "execution_count": 9,
   "metadata": {},
   "outputs": [
    {
     "name": "stdout",
     "output_type": "stream",
     "text": [
      "http://www.w3.org/2002/07/owl#Thing\n",
      "http://dbpedia.org/ontology/Disease\n",
      "http://dbpedia.org/ontology/AdministrativeRegion\n",
      "http://dbpedia.org/ontology/OfficeHolder\n",
      "http://dbpedia.org/ontology/TimePeriod\n",
      "http://dbpedia.org/ontology/Book\n",
      "http://dbpedia.org/ontology/Award\n",
      "http://dbpedia.org/ontology/Film\n",
      "http://dbpedia.org/ontology/Person\n",
      "http://dbpedia.org/ontology/PersonFunction\n",
      "http://dbpedia.org/ontology/Scientist\n",
      "http://dbpedia.org/ontology/Philosopher\n",
      "http://dbpedia.org/ontology/Writer\n",
      "http://dbpedia.org/ontology/Country\n",
      "http://dbpedia.org/ontology/TennisPlayer\n",
      "http://dbpedia.org/ontology/Song\n",
      "http://dbpedia.org/ontology/Sound\n",
      "http://dbpedia.org/ontology/Organisation\n",
      "http://dbpedia.org/ontology/ArtificialSatellite\n",
      "http://dbpedia.org/ontology/WrittenWork\n",
      "http://dbpedia.org/ontology/Continent\n",
      "http://dbpedia.org/ontology/BodyOfWater\n",
      "http://dbpedia.org/ontology/MilitaryUnit\n",
      "http://dbpedia.org/ontology/MilitaryPerson\n",
      "http://dbpedia.org/ontology/AcademicJournal\n",
      "http://dbpedia.org/ontology/MilitaryConflict\n",
      "http://dbpedia.org/ontology/VideoGame\n",
      "http://dbpedia.org/ontology/Constellation\n",
      "http://dbpedia.org/ontology/Royalty\n",
      "http://dbpedia.org/ontology/Language\n",
      "http://dbpedia.org/ontology/City\n",
      "http://dbpedia.org/ontology/Reptile\n",
      "http://dbpedia.org/ontology/Sea\n",
      "http://dbpedia.org/ontology/Company\n",
      "http://dbpedia.org/ontology/Band\n",
      "http://dbpedia.org/ontology/Artist\n",
      "http://dbpedia.org/ontology/InformationAppliance\n",
      "http://dbpedia.org/ontology/RugbyClub\n",
      "http://dbpedia.org/ontology/Settlement\n",
      "http://dbpedia.org/ontology/Plant\n",
      "http://dbpedia.org/ontology/Comic\n",
      "http://dbpedia.org/ontology/MountainRange\n",
      "http://dbpedia.org/ontology/Saint\n",
      "http://dbpedia.org/ontology/FictionalCharacter\n",
      "http://dbpedia.org/ontology/Island\n",
      "http://dbpedia.org/ontology/Sport\n",
      "http://dbpedia.org/ontology/ChessPlayer\n",
      "http://dbpedia.org/ontology/Fish\n",
      "http://dbpedia.org/ontology/Place\n",
      "http://dbpedia.org/ontology/Medician\n",
      "http://dbpedia.org/ontology/Mammal\n",
      "http://dbpedia.org/ontology/Game\n",
      "http://dbpedia.org/ontology/ProgrammingLanguage\n",
      "http://dbpedia.org/ontology/BaseballPlayer\n",
      "http://dbpedia.org/ontology/Town\n",
      "http://dbpedia.org/ontology/Mollusca\n",
      "http://dbpedia.org/ontology/Park\n",
      "http://dbpedia.org/ontology/Building\n",
      "http://dbpedia.org/ontology/MusicalArtist\n",
      "http://dbpedia.org/ontology/River\n",
      "http://dbpedia.org/ontology/Weapon\n",
      "http://dbpedia.org/ontology/Mineral\n",
      "http://dbpedia.org/ontology/ChemicalCompound\n",
      "http://dbpedia.org/ontology/ChristianBishop\n",
      "http://dbpedia.org/ontology/Monarch\n",
      "http://dbpedia.org/ontology/Star\n",
      "http://dbpedia.org/ontology/Software\n",
      "http://dbpedia.org/ontology/GivenName\n",
      "http://dbpedia.org/ontology/Religious\n",
      "http://dbpedia.org/ontology/PoliticalParty\n",
      "http://dbpedia.org/ontology/Drug\n",
      "http://dbpedia.org/ontology/EthnicGroup\n",
      "http://dbpedia.org/ontology/Noble\n",
      "http://dbpedia.org/ontology/Poem\n",
      "http://dbpedia.org/ontology/Insect\n",
      "http://dbpedia.org/ontology/Bodybuilder\n",
      "http://dbpedia.org/ontology/University\n",
      "http://dbpedia.org/ontology/TelevisionShow\n",
      "http://dbpedia.org/ontology/Eukaryote\n",
      "http://dbpedia.org/ontology/Architect\n",
      "http://dbpedia.org/ontology/Holiday\n",
      "http://dbpedia.org/ontology/ConcentrationCamp\n",
      "http://dbpedia.org/ontology/WorldHeritageSite\n",
      "http://dbpedia.org/ontology/Artery\n",
      "http://dbpedia.org/ontology/AmericanFootballTeam\n",
      "http://dbpedia.org/ontology/BaseballTeam\n",
      "http://dbpedia.org/ontology/Politician\n",
      "http://dbpedia.org/ontology/SoccerClub\n",
      "http://dbpedia.org/ontology/SportsTeamMember\n",
      "http://dbpedia.org/ontology/AnatomicalStructure\n",
      "http://dbpedia.org/ontology/Airport\n",
      "http://dbpedia.org/ontology/AmericanFootballLeague\n",
      "http://dbpedia.org/ontology/Airline\n",
      "http://dbpedia.org/ontology/MotorsportSeason\n",
      "http://dbpedia.org/ontology/SportsSeason\n",
      "http://dbpedia.org/ontology/Venue\n",
      "http://dbpedia.org/ontology/MusicGenre\n",
      "http://dbpedia.org/ontology/Species\n",
      "http://dbpedia.org/ontology/Enzyme\n",
      "http://dbpedia.org/ontology/Aircraft\n",
      "http://dbpedia.org/ontology/Bank\n",
      "http://dbpedia.org/ontology/Planet\n",
      "http://dbpedia.org/ontology/Wrestler\n",
      "http://dbpedia.org/ontology/Journalist\n",
      "http://dbpedia.org/ontology/Lake\n",
      "http://dbpedia.org/ontology/Musical\n",
      "http://dbpedia.org/ontology/PrimeMinister\n",
      "http://dbpedia.org/ontology/BroadcastNetwork\n",
      "http://dbpedia.org/ontology/Rocket\n",
      "http://dbpedia.org/ontology/Criminal\n",
      "http://dbpedia.org/ontology/President\n",
      "http://dbpedia.org/ontology/Album\n",
      "http://dbpedia.org/ontology/Crustacean\n",
      "http://dbpedia.org/ontology/Legislature\n",
      "http://dbpedia.org/ontology/ComicsCharacter\n",
      "http://dbpedia.org/ontology/Sales\n",
      "http://www.wikidata.org/entity/Q194189\n",
      "http://www.ontologydesignpatterns.org/ont/dul/DUL.owl#Situation\n",
      "http://dbpedia.org/ontology/Activity\n",
      "http://www.ontologydesignpatterns.org/ont/d0.owl#Activity\n",
      "http://www.wikidata.org/entity/Q1914636\n",
      "http://dbpedia.org/ontology/IceHockeyPlayer\n",
      "http://dbpedia.org/ontology/Election\n",
      "http://dbpedia.org/ontology/Colour\n",
      "http://dbpedia.org/ontology/Food\n",
      "http://dbpedia.org/ontology/Museum\n",
      "http://dbpedia.org/ontology/Newspaper\n",
      "http://dbpedia.org/ontology/AmericanFootballPlayer\n",
      "http://dbpedia.org/ontology/Bacteria\n",
      "http://dbpedia.org/ontology/Bird\n",
      "http://dbpedia.org/ontology/SoccerManager\n",
      "http://dbpedia.org/ontology/CareerStation\n",
      "http://dbpedia.org/ontology/Tunnel\n",
      "http://dbpedia.org/ontology/TelevisionStation\n",
      "http://dbpedia.org/ontology/RadioStation\n",
      "http://dbpedia.org/ontology/Cricketer\n",
      "http://dbpedia.org/ontology/Anime\n",
      "http://dbpedia.org/ontology/Manga\n",
      "http://dbpedia.org/ontology/Protein\n",
      "http://dbpedia.org/ontology/Road\n",
      "http://dbpedia.org/ontology/FigureSkater\n",
      "http://dbpedia.org/ontology/HistoricPlace\n",
      "http://dbpedia.org/ontology/Ship\n",
      "http://dbpedia.org/ontology/Single\n",
      "http://dbpedia.org/ontology/Beverage\n",
      "http://dbpedia.org/ontology/CollegeCoach\n",
      "http://dbpedia.org/ontology/Mountain\n",
      "http://dbpedia.org/ontology/FormulaOneTeam\n",
      "http://dbpedia.org/ontology/AustralianFootballTeam\n",
      "http://dbpedia.org/ontology/Convention\n",
      "http://dbpedia.org/ontology/Comedian\n",
      "http://dbpedia.org/ontology/Monument\n",
      "http://dbpedia.org/ontology/RailwayTunnel\n",
      "http://dbpedia.org/ontology/Astronaut\n",
      "http://dbpedia.org/ontology/GovernmentAgency\n",
      "http://dbpedia.org/ontology/Painter\n",
      "http://dbpedia.org/ontology/Economist\n",
      "http://dbpedia.org/ontology/GreenAlga\n",
      "http://dbpedia.org/ontology/Animal\n",
      "http://dbpedia.org/ontology/RadioProgram\n",
      "http://dbpedia.org/ontology/PublicTransitSystem\n",
      "http://dbpedia.org/ontology/ComicsCreator\n",
      "http://dbpedia.org/ontology/Non-ProfitOrganisation\n",
      "http://dbpedia.org/ontology/Magazine\n",
      "http://dbpedia.org/ontology/ReligiousBuilding\n",
      "http://dbpedia.org/ontology/Village\n",
      "http://dbpedia.org/ontology/NascarDriver\n",
      "http://dbpedia.org/ontology/Bridge\n",
      "http://dbpedia.org/ontology/ProtectedArea\n",
      "http://dbpedia.org/ontology/Prison\n",
      "http://dbpedia.org/ontology/Currency\n",
      "http://dbpedia.org/ontology/Senator\n",
      "http://dbpedia.org/ontology/Website\n",
      "http://dbpedia.org/ontology/HockeyTeam\n",
      "http://dbpedia.org/ontology/ComicStrip\n",
      "http://dbpedia.org/ontology/Swimmer\n",
      "http://dbpedia.org/ontology/Publisher\n",
      "http://dbpedia.org/ontology/Brain\n",
      "http://dbpedia.org/ontology/Engineer\n",
      "http://dbpedia.org/ontology/Canal\n",
      "http://dbpedia.org/ontology/Governor\n",
      "http://dbpedia.org/ontology/MartialArtist\n",
      "http://dbpedia.org/ontology/RecordLabel\n",
      "http://dbpedia.org/ontology/Judge\n",
      "http://www.w3.org/2004/02/skos/core#Concept\n"
     ]
    }
   ],
   "source": [
    "vocabulary = ut.deserializer(path=storage_path, serialized_name='vocabulary')\n",
    "for i in all_types:\n",
    "    print(vocabulary[i])"
   ]
  },
  {
   "cell_type": "markdown",
   "metadata": {},
   "source": [
    "# Type predictions"
   ]
  },
  {
   "cell_type": "code",
   "execution_count": 12,
   "metadata": {},
   "outputs": [
    {
     "name": "stdout",
     "output_type": "stream",
     "text": [
      "\n",
      "\n",
      "###### Cluster Quality  starts ######\n",
      "\n",
      "\n",
      "###### Pseudo labeling via HDBSCAN  starts ######\n",
      "Pseudo labeling via HDBSCAN  took  0.4727797508239746  seconds\n",
      "\n",
      "##### CLUSTER 0  #####\n",
      "##### CLUSTER 5  #####\n",
      "##### CLUSTER -1  #####\n",
      "##### CLUSTER 1  #####\n",
      "##### CLUSTER 4  #####\n",
      "##### CLUSTER 3  #####\n",
      "##### CLUSTER 2  #####\n",
      "Mean of cluster purity 0.6182767433469329\n",
      "Cluster Quality  took  940.7444860935211  seconds\n",
      "\n"
     ]
    }
   ],
   "source": [
    "analyser.perform_clustering_quality(learned_embeddings)"
   ]
  },
  {
   "cell_type": "code",
   "execution_count": 11,
   "metadata": {},
   "outputs": [
    {
     "name": "stdout",
     "output_type": "stream",
     "text": [
      "\n",
      "\n",
      "###### Type Prediction  starts ######\n",
      "K values: [1, 3, 5, 10, 15, 30, 50, 100]\n",
      "##### 1 ####\n",
      "Mean type prediction [0.97811388]\n",
      "##### 3 ####\n",
      "Mean type prediction [0.70523623]\n",
      "##### 5 ####\n",
      "Mean type prediction [0.58358647]\n",
      "##### 10 ####\n",
      "Mean type prediction [0.58121887]\n",
      "##### 15 ####\n",
      "Mean type prediction [0.42255307]\n",
      "##### 30 ####\n",
      "Mean type prediction [0.32960913]\n",
      "##### 50 ####\n",
      "Mean type prediction [0.23986849]\n",
      "##### 100 ####\n",
      "Mean type prediction [0.19941738]\n",
      "Type Prediction  took  8.651156663894653  seconds\n",
      "\n"
     ]
    }
   ],
   "source": [
    "analyser.perform_type_prediction(learned_embeddings)"
   ]
  }
 ],
 "metadata": {
  "kernelspec": {
   "display_name": "Python (pl2vec)",
   "language": "python",
   "name": "pl2vec"
  },
  "language_info": {
   "codemirror_mode": {
    "name": "ipython",
    "version": 3
   },
   "file_extension": ".py",
   "mimetype": "text/x-python",
   "name": "python",
   "nbconvert_exporter": "python",
   "pygments_lexer": "ipython3",
   "version": "3.6.8"
  }
 },
 "nbformat": 4,
 "nbformat_minor": 2
}
