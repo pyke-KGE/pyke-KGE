{
 "cells": [
  {
   "cell_type": "code",
   "execution_count": 1,
   "metadata": {},
   "outputs": [],
   "source": [
    "from helper_classes import PYKE\n",
    "from helper_classes import Parser\n",
    "from helper_classes import DataAnalyser\n",
    "from helper_classes import PPMI\n",
    "\n",
    "import util as ut\n",
    "import numpy as np"
   ]
  },
  {
   "cell_type": "code",
   "execution_count": 2,
   "metadata": {},
   "outputs": [],
   "source": [
    "random_state = 1\n",
    "np.random.seed(random_state)"
   ]
  },
  {
   "cell_type": "markdown",
   "metadata": {},
   "source": [
    "# Learning DBpedia Embedings with PYKE\n",
    "\n",
    "1. Download any file from http://downloads.dbpedia.org/2016-10/core/. Let's say skos_categories_en.ttl.bz2\n",
    "\n",
    "2. Locate the file under KGs/DBpedia."
   ]
  },
  {
   "cell_type": "code",
   "execution_count": 3,
   "metadata": {},
   "outputs": [],
   "source": [
    "# DEFINE MODEL PARAMS\n",
    "K = 2\n",
    "num_of_dims = 10\n",
    "bound_on_iter = 30\n",
    "omega = 0.45557\n",
    "e_release = 0.0414"
   ]
  },
  {
   "cell_type": "code",
   "execution_count": 4,
   "metadata": {},
   "outputs": [],
   "source": [
    "kg_root = 'KGs/DBpedia'\n",
    "kg_path = kg_root + '/'"
   ]
  },
  {
   "cell_type": "code",
   "execution_count": 5,
   "metadata": {},
   "outputs": [
    {
     "name": "stdout",
     "output_type": "stream",
     "text": [
      "\n",
      "\n",
      "###### Preprocessing  starts ######\n",
      "\n",
      "\n",
      "###### Constructing Inverted Index  starts ######\n",
      "Number of RDF triples: 1000\n",
      "Number of vocabulary terms:  816\n",
      "Number of subjects:  177\n",
      "Constructing Inverted Index  took  0.04764389991760254  seconds\n",
      "\n",
      "\n",
      "\n",
      "###### Calculation of PPMIs  starts ######\n",
      "Calculation of PPMIs  took  0.060181379318237305  seconds\n",
      "\n",
      "Preprocessing  took  0.10898923873901367  seconds\n",
      "\n"
     ]
    }
   ],
   "source": [
    "storage_path, experiment_folder = ut.create_experiment_folder()\n",
    "\n",
    "parser = Parser(p_folder=storage_path, k=K)\n",
    "\n",
    "parser.set_similarity_measure(PPMI)\n",
    "\n",
    "model = PYKE()\n",
    "\n",
    "analyser = DataAnalyser(p_folder=storage_path)\n",
    "# For the illustration purpusoes lets consider only the first 1000 ntriples\n",
    "holder = parser.pipeline_of_preprocessing(kg_path,bound=1000)"
   ]
  },
  {
   "cell_type": "code",
   "execution_count": 6,
   "metadata": {},
   "outputs": [
    {
     "name": "stdout",
     "output_type": "stream",
     "text": [
      "\n",
      "\n",
      "###### Generating Embeddings:  starts ######\n",
      "EPOCH:  0\n",
      "EPOCH:  1\n",
      "EPOCH:  2\n",
      "EPOCH:  3\n",
      "EPOCH:  4\n",
      "EPOCH:  5\n",
      "EPOCH:  6\n",
      "EPOCH:  7\n",
      "EPOCH:  8\n",
      "EPOCH:  9\n",
      "EPOCH:  10\n",
      "EPOCH:  11\n",
      "EPOCH:  12\n",
      "EPOCH:  13\n",
      "EPOCH:  14\n",
      "EPOCH:  15\n",
      "EPOCH:  16\n",
      "EPOCH:  17\n",
      "EPOCH:  18\n",
      "EPOCH:  19\n",
      "EPOCH:  20\n",
      "EPOCH:  21\n",
      "EPOCH:  22\n",
      "EPOCH:  23\n",
      "EPOCH:  24\n",
      "\n",
      " Epoch:  24\n",
      "System energy: -0.03499999999999983\n",
      "Generating Embeddings:  took  1.3392236232757568  seconds\n",
      "\n"
     ]
    }
   ],
   "source": [
    "vocab_size = len(holder)\n",
    "\n",
    "embeddings = ut.randomly_initialize_embedding_space(vocab_size, num_of_dims)\n",
    "\n",
    "learned_embeddings = model.pipeline_of_learning_embeddings(e=embeddings,\n",
    "                                                           max_iteration=bound_on_iter,\n",
    "                                                           energy_release_at_epoch=e_release,\n",
    "                                                           holder=holder, omega=omega)"
   ]
  },
  {
   "cell_type": "code",
   "execution_count": 7,
   "metadata": {},
   "outputs": [
    {
     "name": "stdout",
     "output_type": "stream",
     "text": [
      "\n",
      "\n",
      "###### Cluster Quality  starts ######\n",
      "\n",
      "\n",
      "###### Pseudo labeling via HDBSCAN  starts ######\n",
      "Pseudo labeling via HDBSCAN  took  0.007082462310791016  seconds\n",
      "\n",
      "##### CLUSTER -1  #####\n",
      "Mean of cluster purity 1.0\n",
      "Cluster Quality  took  1.022728443145752  seconds\n",
      "\n"
     ]
    }
   ],
   "source": [
    "\n",
    "learned_embeddings.to_csv(storage_path + '/PYKE_50_embd.csv')\n",
    "\n",
    "analyser.perform_clustering_quality(learned_embeddings)"
   ]
  },
  {
   "cell_type": "code",
   "execution_count": 8,
   "metadata": {},
   "outputs": [
    {
     "name": "stdout",
     "output_type": "stream",
     "text": [
      "\n",
      "\n",
      "###### Type Prediction  starts ######\n",
      "K values: [1, 3, 5, 10, 15, 30, 50, 100]\n",
      "##### 1 ####\n",
      "Mean type prediction [1.]\n",
      "##### 3 ####\n",
      "Mean type prediction [1.]\n",
      "##### 5 ####\n",
      "Mean type prediction [1.]\n",
      "##### 10 ####\n",
      "Mean type prediction [1.]\n",
      "##### 15 ####\n",
      "Mean type prediction [1.]\n",
      "##### 30 ####\n",
      "Mean type prediction [1.]\n",
      "##### 50 ####\n",
      "Mean type prediction [1.]\n",
      "##### 100 ####\n",
      "Mean type prediction [1.]\n",
      "Type Prediction  took  0.442169189453125  seconds\n",
      "\n"
     ]
    }
   ],
   "source": [
    "analyser.perform_type_prediction(learned_embeddings)\n"
   ]
  }
 ],
 "metadata": {
  "kernelspec": {
   "display_name": "Python (pl2vec)",
   "language": "python",
   "name": "pl2vec"
  },
  "language_info": {
   "codemirror_mode": {
    "name": "ipython",
    "version": 3
   },
   "file_extension": ".py",
   "mimetype": "text/x-python",
   "name": "python",
   "nbconvert_exporter": "python",
   "pygments_lexer": "ipython3",
   "version": "3.6.8"
  }
 },
 "nbformat": 4,
 "nbformat_minor": 2
}
